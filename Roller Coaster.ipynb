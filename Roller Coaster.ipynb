{
  "metadata": {
    "kernelspec": {
      "name": "python",
      "display_name": "Python (Pyodide)",
      "language": "python"
    },
    "language_info": {
      "codemirror_mode": {
        "name": "ipython",
        "version": 3
      },
      "file_extension": ".py",
      "mimetype": "text/x-python",
      "name": "python",
      "nbconvert_exporter": "python",
      "pygments_lexer": "ipython3",
      "version": "3.7.4"
    }
  },
  "nbformat_minor": 4,
  "nbformat": 4,
  "cells": [
    {
      "cell_type": "markdown",
      "source": "# Roller Coaster",
      "metadata": {}
    },
    {
      "cell_type": "markdown",
      "source": "#### Overview",
      "metadata": {}
    },
    {
      "cell_type": "markdown",
      "source": "This project is slightly different than others you have encountered thus far. Instead of a step-by-step tutorial, this project contains a series of open-ended requirements which describe the project you'll be building. There are many possible ways to correctly fulfill these requirements, and you should expect to use the internet, Codecademy, and other resources when you encounter a problem that you cannot easily solve.",
      "metadata": {}
    },
    {
      "cell_type": "markdown",
      "source": "#### Project Goals",
      "metadata": {}
    },
    {
      "cell_type": "markdown",
      "source": "You will work to create several data visualizations that will give you insight into the world of roller coasters.",
      "metadata": {}
    },
    {
      "cell_type": "markdown",
      "source": "## Prerequisites",
      "metadata": {}
    },
    {
      "cell_type": "markdown",
      "source": "In order to complete this project, you should have completed the first two lessons in the [Data Analysis with Pandas Course](https://www.codecademy.com/learn/data-processing-pandas) and the first two lessons in the [Data Visualization in Python course](https://www.codecademy.com/learn/data-visualization-python). This content is also covered in the [Data Scientist Career Path](https://www.codecademy.com/learn/paths/data-science/).",
      "metadata": {}
    },
    {
      "cell_type": "markdown",
      "source": "## Project Requirements",
      "metadata": {}
    },
    {
      "cell_type": "markdown",
      "source": "1. Roller coasters are thrilling amusement park rides designed to make you squeal and scream! They take you up high, drop you to the ground quickly, and sometimes even spin you upside down before returning to a stop. Today you will be taking control back from the roller coasters and visualizing data covering international roller coaster rankings and roller coaster statistics.\n\n   Roller coasters are often split into two main categories based on their construction material: **wood** or **steel**. Rankings for the best wood and steel roller coasters from the 2013 to 2018 [Golden Ticket Awards](http://goldenticketawards.com) are provded in `'Golden_Ticket_Award_Winners_Wood.csv'` and `'Golden_Ticket_Award_Winners_Steel.csv'`, respectively. Load each csv into a DataFrame and inspect it to gain familiarity with the data.",
      "metadata": {}
    },
    {
      "cell_type": "code",
      "source": "# Import necessary libraries\nimport pandas as pd\nimport matplotlib.pyplot as plt\n# load rankings data\nwood = pd.read_csv('Golden_Ticket_Award_Winners_Wood.csv')\nprint(wood.describe())\n# load rankings data\nsteel = pd.read_csv('Golden_Ticket_Award_Winners_Steel.csv')\nprint(steel.head())\nprint(steel.describe())",
      "metadata": {},
      "outputs": [],
      "execution_count": 1
    },
    {
      "cell_type": "markdown",
      "source": "2. Write a function that will plot the ranking of a given roller coaster over time as a line. Your function should take a roller coaster's name and a ranking DataFrame as arguments. Make sure to include informative labels that describe your visualization.\n\n   Call your function with `\"El Toro\"` as the roller coaster name and the wood ranking DataFrame. What issue do you notice? Update your function with an additional argument to alleviate the problem, and retest your function.",
      "metadata": {}
    },
    {
      "cell_type": "code",
      "source": "# Create a function to plot rankings over time for 1 roller coaster\ndef rank_year (name, park):\n  dfwood = wood[(wood['Name'] == name) & (wood['Park'] == park)]\n  plt.plot(dfwood['Year of Rank'], dfwood['Rank'],)\n  plt.ylabel('Rank')\n  plt.xlabel('Year')\n  plt.legend([name], loc = 1)\n  plt.show()\n\nprint(rank_year('El Toro', 'Six Flags Great Adventure'))",
      "metadata": {},
      "outputs": [],
      "execution_count": 2
    },
    {
      "cell_type": "markdown",
      "source": "3. Write a function that will plot the ranking of two given roller coasters over time as lines. Your function should take both roller coasters' names and a ranking DataFrame as arguments. Make sure to include informative labels that describe your visualization.\n\n   Call your function with `\"El Toro\"` as one roller coaster name, `\"Boulder Dash\"` as the other roller coaster name, and the wood ranking DataFrame. What issue do you notice? Update your function with two additional arguments to alleviate the problem, and retest your function.",
      "metadata": {}
    },
    {
      "cell_type": "code",
      "source": "# Create a function to plot top n rankings over time\ndef rank_year2 (name1, name2, park1, park2):\n  dfwood1 = wood[(wood['Name'] == name1) & (wood['Park'] == park1)]\n  dfwood2 = wood[(wood['Name'] == name2) & (wood['Park'] == park2)]\n  ay= plt.subplot()\n  plt.plot(dfwood1['Year of Rank'], dfwood1['Rank'])\n  plt.plot(dfwood2['Year of Rank'], dfwood2['Rank'])\n  plt.ylabel('Rank')\n  plt.xlabel('Year')\n  plt.legend([name1, name2], loc = 1)\n  ay.set_yticks([1, 2, 3, 4])\n  plt.show()\n\nprint(rank_year2('El Toro', 'Boulder Dash', 'Six Flags Great Adventure', 'Lake Compounce'))",
      "metadata": {},
      "outputs": [],
      "execution_count": 2
    },
    {
      "cell_type": "markdown",
      "source": "4. Write a function that will plot the ranking of the top `n` ranked roller coasters over time as lines. Your function should take a number `n` and a ranking DataFrame as arguments. Make sure to include informative labels that describe your visualization.\n\n   For example, if `n == 5`, your function should plot a line for each roller coaster that has a rank of `5` or lower.\n   \n   Call your function with a value of `n` and either the wood ranking or steel ranking DataFrame.",
      "metadata": {}
    },
    {
      "cell_type": "code",
      "source": "#Create a plot of top n rankings over time\ndef top_ranking(df,n):\n  top = df[df['Rank'] <= n]\n  fig, ax = plt.subplots(figsize=(10,10))\n  for coaster in set(top['Name']):\n    coaster_rankings = top[top['Name'] == coaster]\n    ax.plot(coaster_rankings['Year of Rank'],coaster_rankings['Rank'],label=coaster)\n    ax.set_yticks([i for i in range(1,6)])\n    plt.title('Top 10 Rankings')\n    plt.xlabel('Year')\n    plt.ylabel('Ranking')\n    plt.legend(loc=4)\n    plt.show()\n\nprint(top_ranking(wood,5))",
      "metadata": {},
      "outputs": [],
      "execution_count": 4
    },
    {
      "cell_type": "markdown",
      "source": "5. Now that you've visualized rankings over time, let's dive into the actual statistics of roller coasters themselves. [Captain Coaster](https://captaincoaster.com/en/) is a popular site for recording roller coaster information. Data on all roller coasters documented on Captain Coaster has been accessed through its API and stored in `roller_coasters.csv`. Load the data from the csv into a DataFrame and inspect it to gain familiarity with the data.",
      "metadata": {}
    },
    {
      "cell_type": "code",
      "source": "# 5\n# load roller coaster data\ncoasters = pd.read_csv('roller_coasters.csv')",
      "metadata": {},
      "outputs": [],
      "execution_count": 5
    },
    {
      "cell_type": "markdown",
      "source": "6. Write a function that plots a histogram of any numeric column of the roller coaster DataFrame. Your function should take a DataFrame and a column name for which a histogram should be constructed as arguments. Make sure to include informative labels that describe your visualization.\n\n   Call your function with the roller coaster DataFrame and one of the column names.",
      "metadata": {}
    },
    {
      "cell_type": "code",
      "source": "def hist_roller(df, column):\n  plt.hist(df[column], range=(0, 100))\n  legend = [column]\n  plt.legend(legend)\n  plt.xlabel(column)\n  plt.ylabel('Number of Roller Coasters')\n  plt.show()\nprint(hist_roller(coasters, 'speed'))",
      "metadata": {},
      "outputs": [],
      "execution_count": 6
    },
    {
      "cell_type": "markdown",
      "source": "7. Write a function that creates a bar chart showing the number of inversions for each roller coaster at an amusement park. Your function should take the roller coaster DataFrame and an amusement park name as arguments. Make sure to include informative labels that describe your visualization.\n\n   Call your function with the roller coaster DataFrame and amusement park name.",
      "metadata": {}
    },
    {
      "cell_type": "code",
      "source": "def bar_park(df, park):\n  park_df = df[df['park'] == park]\n  roller_coaster = park_df['name']\n  inversions = park_df['num_inversions']\n  plt.figure(figsize = (20, 15))\n  ax = plt.subplot()\n  ay = plt.subplot()\n  plt.bar(range(len(roller_coaster)), inversions)\n  ax.set_xticks(range(len(roller_coaster)))\n  ax.set_xticklabels(roller_coaster)\n  plt.xticks(rotation=45)\n  plt.legend([park])\n  plt.show()\n\nprint(bar_park(coasters, 'Walibi Belgium'))",
      "metadata": {},
      "outputs": [],
      "execution_count": 7
    },
    {
      "cell_type": "markdown",
      "source": "8. Write a function that creates a pie chart that compares the number of operating roller coasters (`'status.operating'`) to the number of closed roller coasters (`'status.closed.definitely'`). Your function should take the roller coaster DataFrame as an argument. Make sure to include informative labels that describe your visualization.\n\n   Call your function with the roller coaster DataFrame.",
      "metadata": {}
    },
    {
      "cell_type": "code",
      "source": "def pie(coasters):\n  df_operating = coasters[coasters['status'] == 'status.operating']\n  df_closed = coasters[coasters['status'] == 'status.closed.definitely']\n  count = [len(df_operating), len(df_closed)]\n  labelsdata = ['Operating', 'Closed']\n  plt.pie(count, autopct='%0.1f%%', labels = labelsdata)\n  plt.axis('equal')\n  plt.show()\n\nprint(pie(coasters))",
      "metadata": {},
      "outputs": [],
      "execution_count": 8
    },
    {
      "cell_type": "markdown",
      "source": "9. `.scatter()` is another useful function in matplotlib that you might not have seen before. `.scatter()` produces a scatter plot, which is similar to `.plot()` in that it plots points on a figure. `.scatter()`, however, does not connect the points with a line. This allows you to analyze the relationship between two variables. Find [`.scatter()`'s documentation here](https://matplotlib.org/stable/api/_as_gen/matplotlib.pyplot.scatter.html).\n\n   Write a function that creates a scatter plot of two numeric columns of the roller coaster DataFrame. Your function should take the roller coaster DataFrame and two-column names as arguments. Make sure to include informative labels that describe your visualization.\n   \n   Call your function with the roller coaster DataFrame and two-column names.",
      "metadata": {}
    },
    {
      "cell_type": "code",
      "source": "def scatter(df, column1, column2):\n  c1 = df[column1]\n  c2 = df[column2]\n  x = range(len(df))\n  plt.figure(figsize=(20, 20))\n  ax = plt.subplot()\n  plt.scatter(x, c1, color= 'blue', alpha= 0.5)\n  plt.scatter(x, c2, color='green', alpha=0.5)\n  ax.set_xlabel('Variables')\n  ax.set_ylabel('Roller Coasters')\n  plt.ylim(0, 200)\n  plt.legend([column1, column2])\n  plt.show()\n\nprint(scatter(coasters, 'speed', 'height'))",
      "metadata": {},
      "outputs": [],
      "execution_count": 9
    },
    {
      "cell_type": "markdown",
      "source": "10. Part of the fun of data analysis and visualization is digging into the data you have and answering questions that come to your mind.\n\n    Some questions you might want to answer with the datasets provided include:\n    - What roller coaster seating type is most popular? And do different seating types result in higher/faster/longer roller coasters?\n    - Do roller coaster manufactures have any specialties (do they focus on speed, height, seating type, or inversions)?\n    - Do amusement parks have any specialties?\n    \n    What visualizations can you create that answer these questions, and any others that come to you? Share the questions you ask and the accompanying visualizations you create on the Codecademy forums.",
      "metadata": {}
    },
    {
      "cell_type": "code",
      "source": "",
      "metadata": {},
      "outputs": [],
      "execution_count": null
    },
    {
      "cell_type": "markdown",
      "source": "## Solution",
      "metadata": {}
    },
    {
      "cell_type": "markdown",
      "source": "Great work! Visit [our forums](https://discuss.codecademy.com/t/roller-coaster-challenge-project-python-pandas/462378) or the file **Roller Coaster_Solution.ipynb** to compare your project to our sample solution code. You can also learn how to host your own solution on GitHub so you can share it with other learners! Your solution might look different from ours, and that's okay! There are multiple ways to solve these projects, and you'll learn more by seeing others' code.",
      "metadata": {}
    },
    {
      "cell_type": "code",
      "source": "",
      "metadata": {},
      "outputs": [],
      "execution_count": null
    }
  ]
}